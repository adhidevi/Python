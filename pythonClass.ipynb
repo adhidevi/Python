{
 "cells": [
  {
   "cell_type": "markdown",
   "metadata": {},
   "source": [
    "# Class, function and object in python"
   ]
  },
  {
   "cell_type": "code",
   "execution_count": 53,
   "metadata": {
    "collapsed": true
   },
   "outputs": [],
   "source": [
    "import numpy as np\n",
    "import pandas as pd\n",
    "import matplotlib.pyplot as plt"
   ]
  },
  {
   "cell_type": "code",
   "execution_count": 73,
   "metadata": {
    "collapsed": true
   },
   "outputs": [],
   "source": [
    "class Test:#A function can be defined without any argument\n",
    "    def add(x,y):#add is a function\n",
    "        return x+y\n",
    "    def sub(x,y):#sub is a function\n",
    "        return x-y"
   ]
  },
  {
   "cell_type": "code",
   "execution_count": 76,
   "metadata": {},
   "outputs": [
    {
     "name": "stdout",
     "output_type": "stream",
     "text": [
      "my sum is 8\n",
      "my diff is 7\n"
     ]
    }
   ],
   "source": [
    "T=Test#T is an object\n",
    "mysum=T.add(3,5)\n",
    "print('my sum is {}'.format(mysum))\n",
    "mydif=T.sub(10,3)\n",
    "print('my diff is {}'.format(mydif))"
   ]
  },
  {
   "cell_type": "markdown",
   "metadata": {},
   "source": [
    "'''The examples above are classes and objects in their simplest form, and are not really useful in real life applications.\n",
    "To understand the meaning of classes we have to understand the built-in __init__() function.\n",
    "All classes have a function called __init__(), which is always executed when the class is being initiated\n",
    "Use the __init__() function to assign values to object properties, or other operations that are necessary to do when the object is being created:'''"
   ]
  },
  {
   "cell_type": "code",
   "execution_count": 72,
   "metadata": {},
   "outputs": [
    {
     "name": "stdout",
     "output_type": "stream",
     "text": [
      "The average temperature in January is 55 degree F\n"
     ]
    }
   ],
   "source": [
    "class MyClass:\n",
    "    def __init__(self,month,temp):#defines average temp of a given month\n",
    "        self.month=month\n",
    "        self.temp=temp\n",
    "p1=MyClass('January',55)\n",
    "month=p1.month\n",
    "temp=p1.temp\n",
    "print('The average temperature in '+month+' is {} degree F'.format(temp))#+ is used to combine text and variable, {} and .format() is used to input int or float"
   ]
  },
  {
   "cell_type": "markdown",
   "metadata": {},
   "source": [
    "'''The self parameter is a reference to the current instance of the class, and is used to access variables that belongs to the class.\n",
    "It does not have to be named self , you can call it whatever you like, but it has to be the first parameter of any function in the class:'''"
   ]
  }
 ],
 "metadata": {
  "kernelspec": {
   "display_name": "Python 3",
   "language": "python",
   "name": "python3"
  },
  "language_info": {
   "codemirror_mode": {
    "name": "ipython",
    "version": 3
   },
   "file_extension": ".py",
   "mimetype": "text/x-python",
   "name": "python",
   "nbconvert_exporter": "python",
   "pygments_lexer": "ipython3",
   "version": "3.6.2"
  }
 },
 "nbformat": 4,
 "nbformat_minor": 2
}
