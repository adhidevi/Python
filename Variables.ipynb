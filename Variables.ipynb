{
 "cells": [
  {
   "cell_type": "markdown",
   "metadata": {},
   "source": [
    "int, float, str, list are common types of variables"
   ]
  },
  {
   "cell_type": "code",
   "execution_count": 9,
   "metadata": {},
   "outputs": [
    {
     "name": "stdout",
     "output_type": "stream",
     "text": [
      "The value of x is 5\n",
      "<class 'int'>\n"
     ]
    }
   ],
   "source": [
    "x=5#define a variable x with value 5\n",
    "print('The value of x is {}'.format(x))#{}.format() can be used to combine text and non-string variable\n",
    "print(type(x))#this prints the type of variable x"
   ]
  },
  {
   "cell_type": "code",
   "execution_count": 11,
   "metadata": {},
   "outputs": [
    {
     "name": "stdout",
     "output_type": "stream",
     "text": [
      "The value of y is 4.5 \n",
      "<class 'float'>\n"
     ]
    }
   ],
   "source": [
    "y=4.5#define a float variable y with value 4.5\n",
    "print('The value of y is {} '.format(y))\n",
    "print(type(y))"
   ]
  },
  {
   "cell_type": "code",
   "execution_count": 13,
   "metadata": {},
   "outputs": [
    {
     "name": "stdout",
     "output_type": "stream",
     "text": [
      "The value of z is orange\n",
      "<class 'str'>\n"
     ]
    }
   ],
   "source": [
    "z='orange'#define a string variable with value orange\n",
    "print('The value of z is '+z)#+ is used to combine text and string variable\n",
    "print(type(z))"
   ]
  },
  {
   "cell_type": "markdown",
   "metadata": {},
   "source": [
    "# A number of variables can also be defined in the same line separating one another by comma"
   ]
  },
  {
   "cell_type": "code",
   "execution_count": 21,
   "metadata": {},
   "outputs": [
    {
     "name": "stdout",
     "output_type": "stream",
     "text": [
      "The value of x is 5, y is 3.4 and z is banana\n"
     ]
    }
   ],
   "source": [
    "x,y,z=5,3.4,'banana'\n",
    "print('The value of x is {}, y is {} and z is '.format(x,y)+z)"
   ]
  },
  {
   "cell_type": "code",
   "execution_count": 33,
   "metadata": {},
   "outputs": [
    {
     "name": "stdout",
     "output_type": "stream",
     "text": [
      "['Sunday', 'Monday', 'Tuesday', 'Wednesday', 'Thursday', 'Friday', 'Saturday']\n",
      "Sunday\n",
      "Monday\n",
      "Tuesday\n",
      "Wednesday\n",
      "Thursday\n",
      "Friday\n",
      "Saturday\n"
     ]
    }
   ],
   "source": [
    "days=['Sunday','Monday','Tuesday','Wednesday','Thursday','Friday','Saturday']#define a list of days in a week\n",
    "print(days)#print the list\n",
    "for i in days:\n",
    "    print(i)#print the contents of days one by one"
   ]
  },
  {
   "cell_type": "code",
   "execution_count": 39,
   "metadata": {},
   "outputs": [
    {
     "name": "stdout",
     "output_type": "stream",
     "text": [
      "There are 7 entries in the lise days\n"
     ]
    }
   ],
   "source": [
    "count=len(days)#number of entries in the list 'days'\n",
    "print('There are {} entries in the lise days'.format(count))"
   ]
  },
  {
   "cell_type": "markdown",
   "metadata": {},
   "source": [
    "# Python does not allow combining stirng and number"
   ]
  },
  {
   "cell_type": "code",
   "execution_count": 42,
   "metadata": {},
   "outputs": [
    {
     "name": "stdout",
     "output_type": "stream",
     "text": [
      "5cow\n"
     ]
    }
   ],
   "source": [
    "x=5\n",
    "y='cow'\n",
    "#z=x+y#This will give an error\n",
    "z=str(x)+y#but you can convert the number to string and combine to another string\n",
    "print(z)"
   ]
  },
  {
   "cell_type": "markdown",
   "metadata": {},
   "source": [
    "'''One can write it in little better way'''"
   ]
  },
  {
   "cell_type": "code",
   "execution_count": 44,
   "metadata": {},
   "outputs": [
    {
     "name": "stdout",
     "output_type": "stream",
     "text": [
      "There are 5 cows\n"
     ]
    }
   ],
   "source": [
    "z='There are '+str(x)+' '+y+'s'\n",
    "print(z)"
   ]
  },
  {
   "cell_type": "markdown",
   "metadata": {},
   "source": [
    "# Global and Local Variables\n",
    "A variable defined outside of any function is a global variable. Conversely, a variable defined inside a function is a local variable only inside the function."
   ]
  },
  {
   "cell_type": "code",
   "execution_count": 47,
   "metadata": {},
   "outputs": [
    {
     "name": "stdout",
     "output_type": "stream",
     "text": [
      "The highest peak of the world is Everest\n"
     ]
    }
   ],
   "source": [
    "x='Everest'#this is a global variable\n",
    "def Mountain():#define a function Mountain()\n",
    "    print('The highest peak of the world is '+x)\n",
    "Mountain()#call the function Mountain()"
   ]
  },
  {
   "cell_type": "code",
   "execution_count": 49,
   "metadata": {},
   "outputs": [
    {
     "name": "stdout",
     "output_type": "stream",
     "text": [
      "Cat\n",
      "Tiger\n"
     ]
    }
   ],
   "source": [
    "y='Tiger'#this is a global variable\n",
    "def Animal():\n",
    "    y='Cat'#this is a local variable\n",
    "    print(y)#this will print the local variable\n",
    "Animal()#call the function Animal()\n",
    "print(y)#This will print the global variable"
   ]
  },
  {
   "cell_type": "markdown",
   "metadata": {},
   "source": [
    "'''We can use \"global\" keyword to make a variable defined within a function global'''"
   ]
  },
  {
   "cell_type": "code",
   "execution_count": 65,
   "metadata": {},
   "outputs": [
    {
     "name": "stdout",
     "output_type": "stream",
     "text": [
      "45\n",
      "45\n"
     ]
    }
   ],
   "source": [
    "a=34#This is a global variable\n",
    "def MyNum():\n",
    "    global a\n",
    "    a=45#This is a global variable\n",
    "    print(a)\n",
    "MyNum()#call function MyNum(). It prints 45\n",
    "print(a)#This also prints 45 because the global variable 'a' has been re-asigned a new value"
   ]
  },
  {
   "cell_type": "markdown",
   "metadata": {},
   "source": [
    "# Little More in List"
   ]
  },
  {
   "cell_type": "code",
   "execution_count": null,
   "metadata": {},
   "outputs": [],
   "source": []
  }
 ],
 "metadata": {
  "kernelspec": {
   "display_name": "Python 3",
   "language": "python",
   "name": "python3"
  },
  "language_info": {
   "codemirror_mode": {
    "name": "ipython",
    "version": 3
   },
   "file_extension": ".py",
   "mimetype": "text/x-python",
   "name": "python",
   "nbconvert_exporter": "python",
   "pygments_lexer": "ipython3",
   "version": "3.7.6"
  }
 },
 "nbformat": 4,
 "nbformat_minor": 2
}
