{
 "cells": [
  {
   "cell_type": "markdown",
   "metadata": {},
   "source": [
    "# int, float, str,bool, list, tuple, set, dict etc are common types of variables"
   ]
  },
  {
   "cell_type": "code",
   "execution_count": 1,
   "metadata": {},
   "outputs": [
    {
     "name": "stdout",
     "output_type": "stream",
     "text": [
      "The value of x is 5\n",
      "<class 'int'>\n"
     ]
    }
   ],
   "source": [
    "x=5#define a variable x with value 5\n",
    "print('The value of x is {}'.format(x))#{}.format() can be used to combine text and non-string variable\n",
    "print(type(x))#this prints the type of variable x"
   ]
  },
  {
   "cell_type": "code",
   "execution_count": 2,
   "metadata": {},
   "outputs": [
    {
     "name": "stdout",
     "output_type": "stream",
     "text": [
      "The value of y is 4.5 \n",
      "<class 'float'>\n"
     ]
    }
   ],
   "source": [
    "y=4.5#define a float variable y with value 4.5\n",
    "print('The value of y is {} '.format(y))\n",
    "print(type(y))"
   ]
  },
  {
   "cell_type": "code",
   "execution_count": 3,
   "metadata": {},
   "outputs": [
    {
     "name": "stdout",
     "output_type": "stream",
     "text": [
      "The value of z is orange\n",
      "<class 'str'>\n"
     ]
    }
   ],
   "source": [
    "z='orange'#define a string variable with value orange\n",
    "print('The value of z is '+z)#+ is used to combine text and string variable\n",
    "print(type(z))"
   ]
  },
  {
   "cell_type": "markdown",
   "metadata": {},
   "source": [
    "# A number of variables can also be defined in the same line separating one another by comma"
   ]
  },
  {
   "cell_type": "code",
   "execution_count": 4,
   "metadata": {},
   "outputs": [
    {
     "name": "stdout",
     "output_type": "stream",
     "text": [
      "The value of x is 5, y is 3.4 and z is banana\n"
     ]
    }
   ],
   "source": [
    "x,y,z=5,3.4,'banana'\n",
    "print('The value of x is {}, y is {} and z is '.format(x,y)+z)"
   ]
  },
  {
   "cell_type": "markdown",
   "metadata": {},
   "source": [
    "# A list is defined with in [ ] separating each entry by commas"
   ]
  },
  {
   "cell_type": "code",
   "execution_count": 5,
   "metadata": {},
   "outputs": [
    {
     "name": "stdout",
     "output_type": "stream",
     "text": [
      "['Sunday', 'Monday', 'Tuesday', 'Wednesday', 'Thursday', 'Friday', 'Saturday'] \n",
      "\n",
      "Sunday\n",
      "Monday\n",
      "Tuesday\n",
      "Wednesday\n",
      "Thursday\n",
      "Friday\n",
      "Saturday\n",
      "\n",
      "\n",
      "Sunday\n",
      "Monday\n",
      "Tuesday\n",
      "Wednesday\n",
      "Thursday\n",
      "Friday\n",
      "Saturday\n"
     ]
    }
   ],
   "source": [
    "days=['Sunday','Monday','Tuesday','Wednesday','Thursday','Friday','Saturday']#define a list of days in a week\n",
    "print(days,'\\n')#print the list\n",
    "for i in days:\n",
    "    print(i)#print the contents of days one by one\n",
    "#Alternatively using indexing in list object\n",
    "print('\\n')\n",
    "for i in range(7):\n",
    "    print(days[i])"
   ]
  },
  {
   "cell_type": "code",
   "execution_count": 6,
   "metadata": {},
   "outputs": [
    {
     "name": "stdout",
     "output_type": "stream",
     "text": [
      "There are 7 entries in the list days\n"
     ]
    }
   ],
   "source": [
    "count=len(days)#number of entries in the list 'days'\n",
    "print('There are {} entries in the list days'.format(count))"
   ]
  },
  {
   "cell_type": "markdown",
   "metadata": {},
   "source": [
    "# A tuple is defined within ( ) separating each entry by commas"
   ]
  },
  {
   "cell_type": "code",
   "execution_count": 7,
   "metadata": {},
   "outputs": [
    {
     "name": "stdout",
     "output_type": "stream",
     "text": [
      "<class 'tuple'>\n",
      "('January', 'February', 'March', 'April') \n",
      "\n",
      "There are 4 entries in the tuple myTuple \n",
      "\n",
      "January\n",
      "February\n",
      "March\n",
      "April\n",
      "\n",
      "\n",
      "January\n",
      "February\n",
      "March\n",
      "April\n",
      "\n",
      "\n",
      "The 1st entry in the set \"myTuple\" is January\n",
      "and\n",
      "The last entry in the set \"myTuple\" is April\n"
     ]
    }
   ],
   "source": [
    "myTuple=('January','February','March','April')\n",
    "print(type(myTuple))\n",
    "count=len(myTuple)\n",
    "print(myTuple,'\\n')\n",
    "print('There are {} entries in the tuple myTuple'.format(count),'\\n')\n",
    "for i in myTuple:\n",
    "    print(i)\n",
    "#Alternatively using indexing in tuple object\n",
    "print('\\n')\n",
    "for i in range(count):\n",
    "    print(myTuple[i])\n",
    "print('\\n')\n",
    "print('The 1st entry in the set \"myTuple\" is '+myTuple[0])#counting starts from 0,1,...\n",
    "print('and')\n",
    "print('The last entry in the set \"myTuple\" is '+myTuple[-1])#backward counting starts from -1,-2,..."
   ]
  },
  {
   "cell_type": "markdown",
   "metadata": {},
   "source": [
    "# A set is defined with { } each entry separated by commas"
   ]
  },
  {
   "cell_type": "code",
   "execution_count": 8,
   "metadata": {},
   "outputs": [
    {
     "name": "stdout",
     "output_type": "stream",
     "text": [
      "<class 'set'>\n",
      "There are 4 entries in the set \"mySet\" \n",
      "\n",
      "Krishna\n",
      "Ram\n",
      "Shyam\n",
      "Hari\n"
     ]
    }
   ],
   "source": [
    "mySet={'Ram','Krishna','Shyam','Hari'}\n",
    "print(type(mySet))\n",
    "count=len(mySet)\n",
    "print('There are %d entries in the set \"mySet\"'%count,'\\n')#this is another way of writing .format()\n",
    "for i in mySet:\n",
    "    print(i)\n",
    "#indexing is not allowed in set object"
   ]
  },
  {
   "cell_type": "code",
   "execution_count": 9,
   "metadata": {},
   "outputs": [
    {
     "name": "stdout",
     "output_type": "stream",
     "text": [
      "<class 'set'>\n",
      "2\n",
      "3\n",
      "4\n",
      "5\n"
     ]
    }
   ],
   "source": [
    "AnotherSet={2,3,4,5}#A set of numbers\n",
    "print(type(AnotherSet))\n",
    "for i in AnotherSet:\n",
    "    print(i)\n"
   ]
  },
  {
   "cell_type": "code",
   "execution_count": 10,
   "metadata": {},
   "outputs": [
    {
     "name": "stdout",
     "output_type": "stream",
     "text": [
      "There are 5 entries in the given list\n",
      "\n",
      "There are 5 entries in the given list\n",
      "\n",
      "3\n",
      "4\n",
      "2\n",
      "5\n",
      "6\n"
     ]
    }
   ],
   "source": [
    "AnotherList=[3,4,2,5,6]\n",
    "count=len(AnotherList)\n",
    "print('There are %s entries in the given list'%str(count)+'\\n')#converting a number into string\n",
    "#Alternatively\n",
    "print('There are '+str(count)+' entries in the given list\\n')\n",
    "for i in range(count):\n",
    "    tmp=AnotherList[i]\n",
    "    print(tmp)\n",
    "del AnotherList#delete the list AnotherList\n",
    "#print(AnotherList)#this gives \"name\" error because we deleted the list name AnotherList"
   ]
  },
  {
   "cell_type": "markdown",
   "metadata": {},
   "source": [
    "# Python does not allow combining stirng and number"
   ]
  },
  {
   "cell_type": "code",
   "execution_count": 11,
   "metadata": {},
   "outputs": [
    {
     "name": "stdout",
     "output_type": "stream",
     "text": [
      "5cow\n"
     ]
    }
   ],
   "source": [
    "x=5\n",
    "y='cow'\n",
    "#z=x+y#This will give an error\n",
    "z=str(x)+y#but you can convert the number to string and combine to another string\n",
    "print(z)"
   ]
  },
  {
   "cell_type": "markdown",
   "metadata": {},
   "source": [
    "'''One can write it in little better way'''"
   ]
  },
  {
   "cell_type": "code",
   "execution_count": 12,
   "metadata": {},
   "outputs": [
    {
     "name": "stdout",
     "output_type": "stream",
     "text": [
      "There are 5 cows\n"
     ]
    }
   ],
   "source": [
    "z='There are '+str(x)+' '+y+'s'\n",
    "print(z)"
   ]
  },
  {
   "cell_type": "markdown",
   "metadata": {},
   "source": [
    "# Global and Local Variables\n",
    "A variable defined outside of any function is a global variable. Conversely, a variable defined inside a function is a local variable only inside the function."
   ]
  },
  {
   "cell_type": "code",
   "execution_count": 13,
   "metadata": {
    "scrolled": true
   },
   "outputs": [
    {
     "name": "stdout",
     "output_type": "stream",
     "text": [
      "The highest peak of the world is Everest\n"
     ]
    }
   ],
   "source": [
    "x='Everest'#this is a global variable\n",
    "def Mountain():#define a function Mountain()\n",
    "    print('The highest peak of the world is '+x)\n",
    "Mountain()#call the function Mountain()"
   ]
  },
  {
   "cell_type": "code",
   "execution_count": 14,
   "metadata": {
    "scrolled": true
   },
   "outputs": [
    {
     "name": "stdout",
     "output_type": "stream",
     "text": [
      "Cat\n",
      "Tiger\n"
     ]
    }
   ],
   "source": [
    "y='Tiger'#this is a global variable\n",
    "def Animal():\n",
    "    y='Cat'#this is a local variable\n",
    "    print(y)#this will print the local variable\n",
    "Animal()#call the function Animal()\n",
    "print(y)#This will print the global variable"
   ]
  },
  {
   "cell_type": "markdown",
   "metadata": {},
   "source": [
    "'''We can use \"global\" keyword to make a variable defined within a function global'''"
   ]
  },
  {
   "cell_type": "code",
   "execution_count": 15,
   "metadata": {},
   "outputs": [
    {
     "name": "stdout",
     "output_type": "stream",
     "text": [
      "45\n",
      "45\n"
     ]
    }
   ],
   "source": [
    "a=34#This is a global variable\n",
    "def MyNum():\n",
    "    global a\n",
    "    a=45#This is a global variable\n",
    "    print(a)\n",
    "MyNum()#call function MyNum(). It prints 45\n",
    "print(a)#This also prints 45 because the global variable 'a' has been re-asigned a new value"
   ]
  },
  {
   "cell_type": "markdown",
   "metadata": {},
   "source": [
    "# Dictionary (dict) is another type of data defined within { } separated each defination by commas"
   ]
  },
  {
   "cell_type": "code",
   "execution_count": 16,
   "metadata": {},
   "outputs": [
    {
     "name": "stdout",
     "output_type": "stream",
     "text": [
      "<class 'dict'>\n",
      "{'Make': 'Hyundai', 'Model': 'Elantra', 'Year': 2018, 'Color': 'Silver'}\n",
      "Length of the dictionary \"Car\" is 4 \n",
      "Your car is Hyundai\n",
      "You car is Hyundai Elantra\n",
      "\n",
      "\n",
      "The color of your car is Silver\n"
     ]
    }
   ],
   "source": [
    "Car={'Make':'Hyundai','Model':'Elantra','Year':2018,'Color':'Silver'}\n",
    "print(type(Car))\n",
    "print(Car)#print the dictionary\n",
    "length=len(Car)#length of the dictionary\n",
    "print('Length of the dictionary \"Car\" is %d '%length)\n",
    "print('Your car is '+Car.get('Make'))\n",
    "print('You car is %s'%Car['Make']+' '+Car['Model'])#another way of get()\n",
    "print('\\n')\n",
    "if 'Color' in Car:\n",
    "    print('The color of your car is '+Car.get('Color'))\n"
   ]
  },
  {
   "cell_type": "markdown",
   "metadata": {},
   "source": [
    "# Dictionary Methods"
   ]
  },
  {
   "cell_type": "code",
   "execution_count": 17,
   "metadata": {},
   "outputs": [
    {
     "name": "stdout",
     "output_type": "stream",
     "text": [
      "{'Make': 'Hyundai', 'Model': 'Elantra', 'Year': 2018, 'Color': 'Silver', 'Added': 'New'}\n",
      "\n",
      "\n",
      "dict_items([('Make', 'Hyundai'), ('Model', 'Elantra'), ('Year', 2018), ('Color', 'Silver'), ('Added', 'New')])\n",
      "\n",
      "\n",
      "dict_keys(['Make', 'Model', 'Year', 'Color', 'Added'])\n",
      "\n",
      "\n",
      "{'Make': 'Hyundai', 'Model': 'Elantra', 'Year': 2018, 'Color': 'Silver'}\n",
      "\n",
      "\n",
      "{'Make': 'Hyundai', 'Model': 'Elantra', 'Year': 2018, 'Color': 'Silver', 'Added': 'New'}\n",
      "\n",
      "\n",
      "{'Make': 'Hyundai', 'Model': 'Elantra', 'Year': 2018, 'Color': 'Silver', 'Added': 'New'}\n"
     ]
    }
   ],
   "source": [
    "Car['Added']='New'#this adds new element in the dictionary\n",
    "print(Car)\n",
    "print('\\n')\n",
    "print(Car.items())#returns a list containing a tuple for each key value pair\n",
    "print('\\n')\n",
    "print(Car.keys())#returns a list of keys\n",
    "Car.pop('Added')#Removes the element with the specified key\n",
    "print('\\n')\n",
    "print(Car)\n",
    "print('\\n')\n",
    "Car.update({'Added':'New'})#updates the dictionary with the specified key-value pair\n",
    "print(Car)\n",
    "print('\\n')\n",
    "NewCar=Car.copy()#make a copy of existing dictionary\n",
    "print(NewCar)\n",
    "#NewCar.clear()#Removes all the elements from the dictionary\n",
    "#print(NewCar)"
   ]
  }
 ],
 "metadata": {
  "kernelspec": {
   "display_name": "Python 3",
   "language": "python",
   "name": "python3"
  },
  "language_info": {
   "codemirror_mode": {
    "name": "ipython",
    "version": 3
   },
   "file_extension": ".py",
   "mimetype": "text/x-python",
   "name": "python",
   "nbconvert_exporter": "python",
   "pygments_lexer": "ipython3",
   "version": "3.7.6"
  }
 },
 "nbformat": 4,
 "nbformat_minor": 2
}
