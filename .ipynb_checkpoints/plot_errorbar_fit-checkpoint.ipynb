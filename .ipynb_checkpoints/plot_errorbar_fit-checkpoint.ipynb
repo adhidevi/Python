{
 "cells": [
  {
   "cell_type": "code",
   "execution_count": 156,
   "metadata": {},
   "outputs": [],
   "source": [
    "import numpy as np\n",
    "import pandas as pd\n",
    "import matplotlib.pyplot as plt"
   ]
  },
  {
   "cell_type": "code",
   "execution_count": 157,
   "metadata": {},
   "outputs": [
    {
     "name": "stdout",
     "output_type": "stream",
     "text": [
      "The total number of data points is  9\n"
     ]
    }
   ],
   "source": [
    "infile = pd.read_csv('summary.txt',sep = '\\t')\n",
    "count = infile.iloc[:,1].count()#counts the total number of entries in column1. Column number and row number start from 0\n",
    "print('The total number of data points is ',count)"
   ]
  },
  {
   "cell_type": "code",
   "execution_count": 158,
   "metadata": {},
   "outputs": [],
   "source": [
    "HV = infile.iloc[:,1]#input column1 as HV\n",
    "nonLin = infile.iloc[:,6]#input column6 as nonLin\n",
    "err = infile.iloc[:,7]#input column7 as error on nonLin"
   ]
  },
  {
   "cell_type": "code",
   "execution_count": 159,
   "metadata": {},
   "outputs": [
    {
     "name": "stdout",
     "output_type": "stream",
     "text": [
      "    HV  nonLin  Error\n",
      "0 -870   0.485  0.243\n",
      "1 -810   0.010  0.120\n",
      "2 -780  -0.437  0.192\n",
      "3 -740  -0.192  0.155\n",
      "4 -680  -0.138  0.107\n",
      "5 -645  -0.215  0.084\n",
      "6 -590   0.008  0.264\n",
      "7 -555  -0.341  0.155\n",
      "8 -500  -0.370  0.092\n"
     ]
    }
   ],
   "source": [
    "print(infile.iloc[:,[1,6,7]])#print column1, 6, and 7"
   ]
  },
  {
   "cell_type": "code",
   "execution_count": 160,
   "metadata": {},
   "outputs": [
    {
     "data": {
      "image/png": "[encoded data removed]",
      "text/plain": [
       "<Figure size 432x288 with 1 Axes>"
      ]
     },
     "metadata": {
      "needs_background": "light"
     },
     "output_type": "display_data"
    }
   ],
   "source": [
    "fit = np.poly1d(np.polyfit(HV,nonLin,1))\n",
    "t = np.linspace(-480,-900,100)\n",
    "plt.errorbar(HV,nonLin,yerr=err,fmt='bo',label='10nA')#label is for legend\n",
    "plt.plot(t,fit(t),color='r',linestyle='-')\n",
    "plt.grid(color='g',linestyle='--',linewidth=2)\n",
    "plt.xlabel('HV')\n",
    "plt.ylabel('nonLin')\n",
    "plt.title('nonLin vs HV')\n",
    "plt.legend()#to show the legend\n",
    "plt.savefig('../plots/plot_errors.png')\n",
    "plt.show()"
   ]
  }
 ],
 "metadata": {
  "kernelspec": {
   "display_name": "Python 3",
   "language": "python",
   "name": "python3"
  },
  "language_info": {
   "codemirror_mode": {
    "name": "ipython",
    "version": 3
   },
   "file_extension": ".py",
   "mimetype": "text/x-python",
   "name": "python",
   "nbconvert_exporter": "python",
   "pygments_lexer": "ipython3",
   "version": "3.7.6"
  }
 },
 "nbformat": 4,
 "nbformat_minor": 2
}
