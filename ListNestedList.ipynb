{
 "cells": [
  {
   "cell_type": "markdown",
   "metadata": {
    "collapsed": true
   },
   "source": [
    "# List"
   ]
  },
  {
   "cell_type": "code",
   "execution_count": 1,
   "metadata": {},
   "outputs": [
    {
     "name": "stdout",
     "output_type": "stream",
     "text": [
      "['cat', 'dog', 'rabbit', 'goat', 'dog', 'sheep']\n",
      "dog appears 2 times in the list\n",
      "There are 6 elements in the given list\n",
      "['cat', 'rabbit', 'goat', 'dog', 'sheep']\n"
     ]
    }
   ],
   "source": [
    "PetAnimals=['cat','dog','rabbit','goat','dog','sheep']\n",
    "myCopy=PetAnimals.copy()\n",
    "print(myCopy)\n",
    "count=myCopy.count('dog')#counts the number of occurance of a value in the list\n",
    "print('dog appears %d times in the list'%count)\n",
    "length=len(PetAnimals)\n",
    "print(\"There are %d elements in the given list\"%length)\n",
    "myCopy.pop(1)#Removes 2nd entry from the list\n",
    "print(myCopy)\n",
    "del myCopy#deletes the list myCopy\n"
   ]
  },
  {
   "cell_type": "markdown",
   "metadata": {},
   "source": [
    "# Nested List: List of Lists '''appened(), insert(), copy(), len(), pop(), remove(), count() methods in list"
   ]
  },
  {
   "cell_type": "code",
   "execution_count": 2,
   "metadata": {},
   "outputs": [
    {
     "name": "stdout",
     "output_type": "stream",
     "text": [
      "There are 4 elements in the list\n",
      "SubList has 5 entries\n",
      "A sublist of list \"MyList\" is  [53, 23, 11, 43, 1]\n",
      "your sublist doesnot contain apple\n",
      "[23, 11, 43]\n",
      "Modified SubList is  [53, 23, 'I am new', 43, 1]\n",
      "SubList after appending 20 is  [53, 23, 'I am new', 43, 1, 20]\n",
      "SubList after inserting 23 @ 2nd place is [53, 23, 23, 'I am new', 43, 1, 20]\n",
      "Now the SubList becomes  [53, 23, 23, 43, 1, 20]\n"
     ]
    }
   ],
   "source": [
    "MyList=[[1,2,3],23,[53,23,11,43,1],['apple','cherry','banan']]\n",
    "length=len(MyList)\n",
    "print('There are {} elements in the list'.format(length))\n",
    "SubList=MyList[2]#remember: forward indexing starts from 0 while backward indexing starts from -1\n",
    "#lengthS=len(SubList)#or\n",
    "lengthS=len(MyList[2])\n",
    "print('SubList has {} entries'.format(lengthS))\n",
    "print('A sublist of list \"MyList\" is ',SubList)\n",
    "if 'apple' in SubList:\n",
    "    print('your sublist contains apple')\n",
    "else:\n",
    "    print('your sublist doesnot contain apple')\n",
    "print(SubList[1:4])#returns 2nd,3rd and fourth entry of the list SubList\n",
    "SubList[2]='I am new'#replace the 3rd entry of SubList\n",
    "print('Modified SubList is ',SubList)\n",
    "SubList.append(20)#it appends the entry at the end\n",
    "print('SubList after appending 20 is ',SubList)\n",
    "SubList.insert(1,23)#inserts 23 in 2nd plase\n",
    "print('SubList after inserting 23 @ 2nd place is',SubList)\n",
    "SubList.remove('I am new')#removes specified item\n",
    "#SubList.pop(3)#removes the specified index\n",
    "print('Now the SubList becomes ',SubList)"
   ]
  },
  {
   "cell_type": "markdown",
   "metadata": {},
   "source": [
    "# Join more than one Lists"
   ]
  },
  {
   "cell_type": "code",
   "execution_count": 3,
   "metadata": {},
   "outputs": [
    {
     "name": "stdout",
     "output_type": "stream",
     "text": [
      "Joined list is  [1, 2, 4, 5, 'a', 'b', 'c']\n"
     ]
    }
   ],
   "source": [
    "list1=[1,2,4,5]\n",
    "list2=['a','b','c']\n",
    "list3=list1+list2\n",
    "print('Joined list is ',list3)"
   ]
  },
  {
   "cell_type": "code",
   "execution_count": 4,
   "metadata": {},
   "outputs": [
    {
     "name": "stdout",
     "output_type": "stream",
     "text": [
      "[1, 2, 4, 5, 'a', 'b', 'c']\n"
     ]
    }
   ],
   "source": [
    "for x in list2:\n",
    "    list1.append(x)#this appends list2 every time you hit enter\n",
    "print(list1)"
   ]
  },
  {
   "cell_type": "code",
   "execution_count": 5,
   "metadata": {},
   "outputs": [
    {
     "name": "stdout",
     "output_type": "stream",
     "text": [
      "[1, 2, 4, 5, 'a', 'b', 'c', 'a', 'b', 'c']\n"
     ]
    }
   ],
   "source": [
    "list1.extend(list2)#This also add list2 at the end of list1\n",
    "print(list1)#the repeatition of list2 items in the following result is because list2 has already ben appended in the previous cell"
   ]
  },
  {
   "cell_type": "markdown",
   "metadata": {},
   "source": [
    "# reverse() and sort() methods in list"
   ]
  },
  {
   "cell_type": "code",
   "execution_count": 6,
   "metadata": {},
   "outputs": [
    {
     "name": "stdout",
     "output_type": "stream",
     "text": [
      "['c', 'b', 'a', 'c', 'b', 'a', 5, 4, 2, 1]\n",
      "['asdf', 'dfs', 'jl', 's']\n"
     ]
    }
   ],
   "source": [
    "list1.reverse()\n",
    "print(list1)\n",
    "def myFun(k):\n",
    "    return len(k)\n",
    "list2=['s','asdf','jl','dfs']\n",
    "list2.sort(reverse=True,key=myFun)\n",
    "print(list2)"
   ]
  },
  {
   "cell_type": "code",
   "execution_count": 7,
   "metadata": {},
   "outputs": [
    {
     "name": "stdout",
     "output_type": "stream",
     "text": [
      "[1, 2, 3, 4, 43, 54, 66]\n"
     ]
    }
   ],
   "source": [
    "list1=[2,1,4,66,3,43,54]\n",
    "list1.sort()\n",
    "print(list1)"
   ]
  }
 ],
 "metadata": {
  "kernelspec": {
   "display_name": "Python 3",
   "language": "python",
   "name": "python3"
  },
  "language_info": {
   "codemirror_mode": {
    "name": "ipython",
    "version": 3
   },
   "file_extension": ".py",
   "mimetype": "text/x-python",
   "name": "python",
   "nbconvert_exporter": "python",
   "pygments_lexer": "ipython3",
   "version": "3.7.6"
  }
 },
 "nbformat": 4,
 "nbformat_minor": 2
}
